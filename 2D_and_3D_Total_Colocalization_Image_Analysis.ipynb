{
  "nbformat": 4,
  "nbformat_minor": 0,
  "metadata": {
    "colab": {
      "provenance": [],
      "authorship_tag": "ABX9TyMIv/QQChA/nq3VuFCAgcmX",
      "include_colab_link": true
    },
    "kernelspec": {
      "name": "python3",
      "display_name": "Python 3"
    },
    "language_info": {
      "name": "python"
    }
  },
  "cells": [
    {
      "cell_type": "markdown",
      "metadata": {
        "id": "view-in-github",
        "colab_type": "text"
      },
      "source": [
        "<a href=\"https://colab.research.google.com/github/skovz99/2D-and-3D-colocalization/blob/main/2D_and_3D_Total_Colocalization_Image_Analysis.ipynb\" target=\"_parent\"><img src=\"https://colab.research.google.com/assets/colab-badge.svg\" alt=\"Open In Colab\"/></a>"
      ]
    },
    {
      "cell_type": "code",
      "execution_count": null,
      "metadata": {
        "id": "OQSz8aSxbFlv",
        "colab": {
          "base_uri": "https://localhost:8080/"
        },
        "outputId": "62f9af98-fc6c-4064-96ce-cf7f6247a7f3"
      },
      "outputs": [
        {
          "output_type": "execute_result",
          "data": {
            "text/plain": [
              "(19.45, 6.98)"
            ]
          },
          "metadata": {},
          "execution_count": 7
        }
      ],
      "source": [
        "import pandas as pd\n",
        "import numpy as np\n",
        "import skimage\n",
        "import skimage.io\n",
        "import skimage.util as util\n",
        "from skimage import filters, measure\n",
        "import math\n",
        "\n",
        "Image1 = skimage.io.imread('')\n",
        "Image2 = skimage.io.imread('')\n",
        "\n",
        "def total_colocalization_2D(image_1, image_2, channel_image_1, channel_image_2, threshold = 50):\n",
        "    if channel_image_1 == 'red':\n",
        "      channel_1 = image_1[:, :, 0]\n",
        "    elif channel_image_1 == 'green':\n",
        "      channel_1 = image_1[:, :, 1]\n",
        "    elif channel_image_1 == 'blue':\n",
        "      channel_1 = image_1[:, :, 2]\n",
        "    if channel_image_2 == 'red':\n",
        "      channel_2 = image_2[:, :, 0]\n",
        "    elif channel_image_2 == 'green':\n",
        "      channel_2 = image_2[:, :, 1]\n",
        "    elif channel_image_2 == 'blue':\n",
        "      channel_2 = image_2[:, :, 2]\n",
        "    thresholded_image_1 = (channel_1 > threshold).astype(int)\n",
        "    thresholded_image_2 = (channel_2 > threshold).astype(int)\n",
        "    image_1_df = pd.DataFrame(thresholded_image_1)\n",
        "    image_2_df = pd.DataFrame(thresholded_image_2)\n",
        "    add = image_1_df + image_2_df\n",
        "    numpy_add = add.to_numpy()\n",
        "    overlap_counts = np.count_nonzero(numpy_add == 2)\n",
        "    numpy_image_1 = image_1_df.to_numpy()\n",
        "    numpy_image_2 = image_2_df.to_numpy()\n",
        "    total_image_1_df = np.count_nonzero(numpy_image_1 == 1)\n",
        "    total_image_2_df = np.count_nonzero(numpy_image_2 == 1)\n",
        "    colocalization_image_1 = round(((overlap_counts)/(total_image_1_df)) * 100, 2)\n",
        "    colocalization_image_2 = round(((overlap_counts)/(total_image_2_df)) * 100, 2)\n",
        "    return colocalization_image_1, colocalization_image_2\n",
        "\n",
        "add1a, add2a = total_colocalization_2D(Image1, Image2, channel_image_1 = 'blue', channel_image_2 = 'red', threshold = 50)\n",
        "add1a, add2a"
      ]
    },
    {
      "cell_type": "code",
      "source": [
        "import pandas as pd\n",
        "import numpy as np\n",
        "import skimage\n",
        "import skimage.io\n",
        "import skimage.util as util\n",
        "from skimage import filters, measure\n",
        "import math\n",
        "import matplotlib.pyplot as plt\n",
        "\n",
        "def total_colocalization_3D(image_1, image_2, channel_image_1, channel_image_2, threshold = 50, pixel_intensity_similarity_gradient = 'True', pixel_intensity_similarity_int=10):\n",
        "  if channel_image_1 == 'red':\n",
        "    channel_1 = image_1[:, :, 0]\n",
        "  elif channel_image_1 == 'green':\n",
        "    channel_1 = image_1[:, :, 1]\n",
        "  elif channel_image_1 == 'blue':\n",
        "    channel_1 = image_1[:, :, 2]\n",
        "  if channel_image_2 == 'red':\n",
        "    channel_2 = image_2[:, :, 0]\n",
        "  elif channel_image_2 == 'green':\n",
        "    channel_2 = image_2[:, :, 1]\n",
        "  elif channel_image_2 == 'blue':\n",
        "    channel_2 = image_2[:, :, 2]\n",
        "  image_1_df = pd.DataFrame(channel_1)\n",
        "  image_2_df = pd.DataFrame(channel_2)\n",
        "  thresholded_image_1 = (channel_1 > threshold).astype(int)\n",
        "  thresholded_image_2 = (channel_2 > threshold).astype(int)\n",
        "  image_1_dfa = pd.DataFrame(thresholded_image_1)\n",
        "  image_2_dfa = pd.DataFrame(thresholded_image_2)\n",
        "  add = image_1_dfa + image_2_dfa\n",
        "  numpy_image_1 = image_1_dfa.to_numpy()\n",
        "  numpy_image_2 = image_2_dfa.to_numpy()\n",
        "  total_image_1_df = np.count_nonzero(numpy_image_1 == 1)\n",
        "  total_image_2_df = np.count_nonzero(numpy_image_2 == 1)\n",
        "  # the add dataframe adds the thresholded (0 = background, 1 = foreground) together to get a mix of 0, 1 and 2's. everything less than 2 needs to be converted to zero\n",
        "  # since both 0 and 1 mean that there is no overlap, have to get rid of it by converting both to zero\n",
        "  add[add <= 1] = 0\n",
        "  add[add == 2] = 1\n",
        "  # multiply the adjusted 'add' df by the df with the unthresholded first image to return all the pixel intensities where there is overlap between image 1 and image 2 onto the non-thresholded image 1\n",
        "  multiply_img_1 = (image_1_df) * add\n",
        "  # do the same to the non-thresholded image 2\n",
        "  multiply_img_2 = (image_2_df) * add\n",
        "  # subtract the multiplied images from each other\n",
        "  subtract = multiply_img_1 - multiply_img_2\n",
        "  subtract = abs(subtract)\n",
        "  if pixel_intensity_similarity_gradient == 'True':\n",
        "    subtract_normalized = subtract / 255\n",
        "  else:\n",
        "    subtract_normalized = np.where(subtract > pixel_intensity_similarity_int, 0, 1)\n",
        "  sum_subtract_normalized = subtract_normalized[subtract_normalized != 0].sum().sum()\n",
        "  # calculate the percentage based on the 2's (now 1's) of overlap in the thresholded image combinations\n",
        "  total_3D_sum_img_1 = round(((sum_subtract_normalized)/(total_image_1_df) * 100), 2)\n",
        "  total_3D_sum_img_2 = round(((sum_subtract_normalized)/(total_image_2_df) * 100), 2)\n",
        "  return total_3D_sum_img_1, total_3D_sum_img_2\n",
        "\n",
        "Image1 = skimage.io.imread('')\n",
        "Image2 = skimage.io.imread('')\n",
        "\n",
        "add1, add2 = total_colocalization_3D(Image1, Image2, channel_image_1 = 'blue', channel_image_2 = 'red', pixel_intensity_similarity_gradient = 'True', pixel_intensity_similarity_int=10)\n",
        "add1, add2\n"
      ],
      "metadata": {
        "colab": {
          "base_uri": "https://localhost:8080/"
        },
        "id": "N75fpvLNykSm",
        "outputId": "fccf1464-a3ad-41c7-98a3-1028db661ba7"
      },
      "execution_count": null,
      "outputs": [
        {
          "output_type": "execute_result",
          "data": {
            "text/plain": [
              "(5.36, 1.92)"
            ]
          },
          "metadata": {},
          "execution_count": 4
        }
      ]
    },
    {
      "cell_type": "code",
      "source": [
        "# define a function to calculate the difference between 2D total colocalization and 3D total colocalization\n",
        "def difference_2D_3D_total(twoD_img_1_overlap_percent, twoD_img_2_overlap_percent, threeD_img_1_overlap_percent, threeD_img_2_overlap_percent, as_percent_of_2D = 'False'):\n",
        "  # calculate the difference between 2D and 3D when image 1 was used as the denominator\n",
        "  if as_percent_of_2D == 'False':\n",
        "    change_from_2D_img_1 = round((threeD_img_1_overlap_percent) - (twoD_img_1_overlap_percent),2)\n",
        "    change_from_2D_img_2 = round((threeD_img_2_overlap_percent) - (twoD_img_2_overlap_percent),2)\n",
        "  else:\n",
        "    change_from_2D_img_1 = round((((threeD_img_1_overlap_percent) - (twoD_img_1_overlap_percent))/(twoD_img_1_overlap_percent)) * 100,2)\n",
        "    change_from_2D_img_2 = round((((threeD_img_2_overlap_percent) - (twoD_img_2_overlap_percent))/(twoD_img_2_overlap_percent)) * 100,2)\n",
        "  return change_from_2D_img_1, change_from_2D_img_2\n",
        "\n",
        "diff = difference_2D_3D_total(add1a, add2a, add1, add2, as_percent_of_2D = 'False')\n",
        "diff"
      ],
      "metadata": {
        "colab": {
          "base_uri": "https://localhost:8080/"
        },
        "id": "Fl232GN_weY3",
        "outputId": "1bffed64-06d1-4335-881d-72c409804bd6"
      },
      "execution_count": null,
      "outputs": [
        {
          "output_type": "execute_result",
          "data": {
            "text/plain": [
              "(-14.09, -5.06)"
            ]
          },
          "metadata": {},
          "execution_count": 16
        }
      ]
    }
  ]
}